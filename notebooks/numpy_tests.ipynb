{
 "cells": [
  {
   "cell_type": "markdown",
   "metadata": {},
   "source": [
    "# VPS Tests with Numpy"
   ]
  },
  {
   "cell_type": "markdown",
   "metadata": {},
   "source": [
    "These are my first trials to replicate VPS using Numpy."
   ]
  },
  {
   "cell_type": "markdown",
   "metadata": {},
   "source": [
    "## Pointshell"
   ]
  },
  {
   "cell_type": "markdown",
   "metadata": {},
   "source": [
    "We generate the following data:\n",
    "\n",
    "- A numpy array of shape (10000, 6) which contains random floats in [-1.0, 1.0]; the first 3 columns denote point coordinates, whereas the last 3 columns denote normal vectors. Thus, the 6D elements are points in space each with a normal vector. Additionally, we constrain the first 3 floats to be in a unit sphere (i.e., a sphere with radius 1); we achieve that by projecting the point coordinates onto the unit sphere.\n",
    "- A numpy array of shape (4,4) containing floats: this array/matrix is in reality a homogeneous transformation matrix H composed by a rotation matrix R (3,3) and a translation vector t (3,1) side by side. Note that the last row of the matrix should be [0.0, 0.0, 0.0, 1.0], since it's a homogeneous transformation matrix; maybe, instead of working with the H (4,4) matrix, we could work with two arrays: R (3,3) and t (3,1). The R part is be orthonormal, i.e., R*transpose(R) = Identity and determinant(R) = 1.0."
   ]
  },
  {
   "cell_type": "code",
   "execution_count": 6,
   "metadata": {},
   "outputs": [
    {
     "data": {
      "text/plain": [
       "(array([[-0.53196706, -0.80591067,  0.25984426,  0.90534519, -0.32349198,\n",
       "          0.615199  ],\n",
       "        [ 0.32513339,  0.27802857, -0.9038741 , -0.99189268,  0.60095333,\n",
       "          0.6915906 ],\n",
       "        [ 0.10523909,  0.18194573,  0.97766072,  0.00888023,  0.35102678,\n",
       "          0.14932224],\n",
       "        ...,\n",
       "        [-0.70382975,  0.5198727 ,  0.48410336,  0.75023236, -0.23744527,\n",
       "         -0.23797059],\n",
       "        [-0.55661276,  0.71852731,  0.41701407,  0.24300842, -0.0555407 ,\n",
       "          0.25912546],\n",
       "        [ 0.67597756, -0.4823948 , -0.5570903 , -0.17260041,  0.07464767,\n",
       "          0.01977732]]),\n",
       " array([[ 0.09340405,  0.55734346, -0.82501149, -0.24756895],\n",
       "        [-0.85362758, -0.38166107, -0.35447819, -0.42990918],\n",
       "        [-0.51244087,  0.73736226,  0.44011505, -0.65278671],\n",
       "        [ 0.        ,  0.        ,  0.        ,  1.        ]]))"
      ]
     },
     "execution_count": 6,
     "metadata": {},
     "output_type": "execute_result"
    }
   ],
   "source": [
    "import numpy as np\n",
    "\n",
    "# Function to generate a point on a unit sphere\n",
    "def generate_on_unit_sphere(n_points):\n",
    "    vec = np.random.randn(n_points, 3)  # Generate random points in 3D\n",
    "    vec /= np.linalg.norm(vec, axis=1)[:, np.newaxis]  # Normalize points to lie on the surface of a unit sphere\n",
    "    return vec\n",
    "\n",
    "# Generate 10000 points with their normals\n",
    "points = generate_on_unit_sphere(10000)\n",
    "normals = np.random.uniform(-1.0, 1.0, (10000, 3))  # Generate random normal vectors\n",
    "data = np.hstack((points, normals))  # Concatenate points and normals\n",
    "\n",
    "# Function to generate a random orthonormal matrix, i.e., a rotation matrix\n",
    "def random_rotation_matrix():\n",
    "    # Create a random unit quaternion\n",
    "    q = np.random.randn(4)\n",
    "    q /= np.linalg.norm(q)\n",
    "\n",
    "    # Convert the quaternion into a rotation matrix\n",
    "    q0, q1, q2, q3 = q\n",
    "    R = np.array([[1 - 2*q2**2 - 2*q3**2, 2*q1*q2 - 2*q3*q0, 2*q1*q3 + 2*q2*q0],\n",
    "                  [2*q1*q2 + 2*q3*q0, 1 - 2*q1**2 - 2*q3**2, 2*q2*q3 - 2*q1*q0],\n",
    "                  [2*q1*q3 - 2*q2*q0, 2*q2*q3 + 2*q1*q0, 1 - 2*q1**2 - 2*q2**2]])\n",
    "    return R\n",
    "\n",
    "# Generate a random rotation matrix R\n",
    "R = random_rotation_matrix()\n",
    "\n",
    "# Generate a random translation vector t\n",
    "t = np.random.uniform(-1.0, 1.0, (3, 1))\n",
    "\n",
    "# Construct the homogeneous transformation matrix H\n",
    "H = np.eye(4)\n",
    "H[:3, :3] = R\n",
    "H[:3, 3] = t.ravel()\n",
    "\n",
    "(data, H)\n"
   ]
  },
  {
   "cell_type": "markdown",
   "metadata": {},
   "source": [
    "Now we use R and t to transform data as follows:\n",
    "\n",
    "- Apply the transformation H to all points in the first 3 columns of data (the points), i.e., new_point = R*point + t\n",
    "- Apply only the rotation T to the last 3 columns of data (the normals), i.e., new_normal = R*normal\n",
    "\n",
    "We do it in a function transform_data() which takes as input the data and the H matrix. The function returns the transformed data. However, we do not make any copies. Instead, the input data is modified in place.\n",
    "\n",
    "We perform 1000 transformations with a unique random H matrix and measure how long the average transform_data() requires."
   ]
  },
  {
   "cell_type": "code",
   "execution_count": 11,
   "metadata": {},
   "outputs": [
    {
     "data": {
      "text/plain": [
       "0.000549536943435669"
      ]
     },
     "execution_count": 11,
     "metadata": {},
     "output_type": "execute_result"
    }
   ],
   "source": [
    "import time\n",
    "\n",
    "# Function to transform data in place according to the provided homogeneous transformation matrix H\n",
    "def transform_data(data, H, start=None, stop=None):\n",
    "    R = H[:3, :3]  # Extract the rotation matrix\n",
    "    t = H[:3, 3]   # Extract the translation vector\n",
    "\n",
    "    # Determine slice range\n",
    "    start = start if start is not None else 0\n",
    "    stop = stop if stop is not None else data.shape[0]\n",
    "\n",
    "    # Apply transformation to points within the specified slice\n",
    "    # FIXME: maybe we should return data_transformed\n",
    "    data[start:stop, :3] = np.dot(data[start:stop, :3], R.T) + t\n",
    "\n",
    "    # Apply rotation to normals within the specified slice\n",
    "    # FIXME: maybe we should return data_transformed\n",
    "    data[start:stop, 3:] = np.dot(data[start:stop, 3:], R.T)\n",
    "\n",
    "# Measure performance\n",
    "start_time = time.time()\n",
    "for _ in range(1000):\n",
    "    R = random_rotation_matrix()  # Generate a new random rotation matrix\n",
    "    t = np.random.uniform(-1.0, 1.0, (3, 1))  # Generate a new random translation vector\n",
    "\n",
    "    # Construct a new homogeneous transformation matrix H\n",
    "    H_new = np.eye(4)\n",
    "    H_new[:3, :3] = R\n",
    "    H_new[:3, 3] = t.ravel()\n",
    "\n",
    "    # Transform the data\n",
    "    # We can transform the complete set of points or a slice start:stop\n",
    "    start = int(0.0*data.shape[0])\n",
    "    stop = int(0.99*data.shape[0])\n",
    "    transform_data(data, H_new, start=start, stop=stop)\n",
    "\n",
    "end_time = time.time()\n",
    "average_time = (end_time - start_time) / 1000\n",
    "\n",
    "average_time # 0.00036285042762756347"
   ]
  },
  {
   "cell_type": "markdown",
   "metadata": {},
   "source": [
    "## Voxelmap and Collision"
   ]
  },
  {
   "cell_type": "markdown",
   "metadata": {},
   "source": [
    "Now we create a class called Environment (Voxelmap) which will contain a Numpy array called map of shape (Nx, Ny, Nz) with random integer values (int16, signed). N values are passed when the class is instantiated. The class also takes the float tuples (xMin, yMin, zMin) and (xMax, yMax, zMax) and save them as the arrays bbox_min and bbox_max of shape (3,).\n",
    "\n",
    "Additionally, we need a method compute_collision() which takes as input the transformed beforehand data array (10000, 6). Then, the first 3 columns of the data array (points) are checked against the map as follows: \n",
    "\n",
    "- The real 3 coordinates of every point p in data are transformed into the discrete map array coordinates using bbox_min and bbox_max: real in data (px, py, pz) -> discrete in map (PX, PY, PZ).\n",
    "- We create an array of shape (10000, 1) (i.e., in practice the same number of rows as data) which contains 0.0 floats; we call that array penetration and each point as an entry.\n",
    "- Then, the integer value in the map is observed in the discrete coordinates: map[PX, PY, PZ]; if that value is larger than 0, the corresponding point entry in the penetration array gets assigned the map[PX, PY, PZ] value.\n",
    "- Finally, the penetration array is multiplied to the last 3 columns of data (normals) one by one and the products are summed. The resulting (1,3) array is the collision force, which is returned by compute_collision().\n",
    "\n",
    "We should not use any loops. Instead, use numpy operators only to be as fast as possible."
   ]
  },
  {
   "cell_type": "code",
   "execution_count": 3,
   "metadata": {},
   "outputs": [
    {
     "data": {
      "text/plain": [
       "array([[ 387627.86741652, -461220.64411773,  643402.43760574]])"
      ]
     },
     "execution_count": 3,
     "metadata": {},
     "output_type": "execute_result"
    }
   ],
   "source": [
    "import numpy as np\n",
    "\n",
    "class Environment:\n",
    "    def __init__(self, N, bbox_min, bbox_max):\n",
    "        self.map = np.random.randint(np.iinfo(np.int16).min, np.iinfo(np.int16).max + 1, N, dtype=np.int16)\n",
    "        self.bbox_min = np.array(bbox_min)\n",
    "        self.bbox_max = np.array(bbox_max)\n",
    "\n",
    "    def compute_collision(self, data, start=None, stop=None):\n",
    "        # Determine slice range\n",
    "        start = start if start is not None else 0\n",
    "        stop = stop if stop is not None else data.shape[0]\n",
    "\n",
    "        # Scale factors for converting real coordinates to discrete map indices\n",
    "        scale_factors = (self.map.shape - np.array([1, 1, 1])) / (self.bbox_max - self.bbox_min)\n",
    "\n",
    "        # Convert real coordinates in the specified slice of data to discrete coordinates in the map\n",
    "        # TODO: store distance from voxel center to point and project it in normal to correct map_value\n",
    "        discrete_coords = ((data[start:stop, :3] - self.bbox_min) * scale_factors).astype(int)\n",
    "\n",
    "        # Clamp coordinates to map bounds\n",
    "        discrete_coords = np.clip(discrete_coords, [0, 0, 0], np.array(self.map.shape) - 1)\n",
    "\n",
    "        # Fetch map values at discrete coordinates without using a loop\n",
    "        map_values = self.map[discrete_coords[:, 0], discrete_coords[:, 1], discrete_coords[:, 2]]\n",
    "\n",
    "        # Update penetration values based on map values\n",
    "        # TODO: get max/min penetration/distance\n",
    "        # TODO: make penetration/distance array a property that can be accessed\n",
    "        penetration = np.where(map_values > 0, map_values, 0).reshape(-1, 1)\n",
    "\n",
    "        # Compute collision force for the specified slice\n",
    "        # TODO: compute torque approximations\n",
    "        collision_force = np.sum(penetration * data[start:stop, 3:], axis=0)\n",
    "\n",
    "        return collision_force.reshape((1, 3))\n",
    "\n",
    "# Example of class instantiation and method usage\n",
    "N = (100, 100, 100)  # Map dimensions\n",
    "bbox_min = (-5.0, -5.0, -5.0)  # Minimum bounds\n",
    "bbox_max = (5.0, 5.0, 5.0)  # Maximum bounds\n",
    "\n",
    "env = Environment(N, bbox_min, bbox_max)\n",
    "\n",
    "# For demonstration purposes, let's create a sample data array similar to the previously transformed data\n",
    "data_sample = np.random.uniform(-1.0, 1.0, (10000, 6))\n",
    "data_sample[:, :3] /= np.linalg.norm(data_sample[:, :3], axis=1)[:, np.newaxis]  # Normalize first 3 columns to unit vectors\n",
    "\n",
    "# Compute the collision force\n",
    "collision_force = env.compute_collision(data_sample)\n",
    "collision_force"
   ]
  },
  {
   "cell_type": "markdown",
   "metadata": {},
   "source": [
    "Now we run compute_collision(data_sample) 1000 times and measure the average time it takes."
   ]
  },
  {
   "cell_type": "code",
   "execution_count": 4,
   "metadata": {},
   "outputs": [
    {
     "data": {
      "text/plain": [
       "0.0006852850914001465"
      ]
     },
     "execution_count": 4,
     "metadata": {},
     "output_type": "execute_result"
    }
   ],
   "source": [
    "import time\n",
    "\n",
    "# Measure performance of the optimized compute_collision method again, now with time module imported\n",
    "start_time_optimized = time.time()\n",
    "\n",
    "for _ in range(1000):\n",
    "    start = int(0.0*data_sample.shape[0])\n",
    "    stop = int(0.99*data_sample.shape[0])\n",
    "    env.compute_collision(data_sample, start=start, stop=stop)\n",
    "\n",
    "end_time_optimized = time.time()\n",
    "average_time_optimized = (end_time_optimized - start_time_optimized) / 1000\n",
    "\n",
    "average_time_optimized\n"
   ]
  },
  {
   "cell_type": "markdown",
   "metadata": {},
   "source": [
    "## Types"
   ]
  },
  {
   "cell_type": "markdown",
   "metadata": {},
   "source": [
    "Since each time step is independent from the other and we don't accumulate the error from previous steps in the computation, maybe using `np.float16` is good choice for both the Voxelmap and the Pointshell. It has 2 bytes and maybe it's part of the IEEE 754 standard and is also known as half precision:\n",
    "\n",
    "- **Precision:** `np.float16` provides less precision compared to more commonly used formats like `np.float32` (single precision) and `np.float64` (double precision). \n",
    "- **Exponent and Mantissa:** It has 1 sign bit, 5 exponent bits, and 10 mantissa bits.\n",
    "- **Range:** The range of numbers that can be represented is approximately from (6.1 x 10^{-5}) to (6.5 X 10^{4}) in absolute values, with the actual precision and exact range varying slightly due to the characteristics of floating-point arithmetic, like subnormal numbers and the handling of special values like NaN (Not a Number) and infinity.\n",
    "- **Usage:** This data type is often used in applications where memory bandwidth is more critical than precision, such as in mobile devices, lower-power devices, or for certain types of machine learning models where the model size needs to be reduced without a significant drop in accuracy.\n",
    "\n",
    "With that accuracy it makes sense to define model coordinates in m, while we expect from them:\n",
    "\n",
    "- Not to exceed 2m in width.\n",
    "- To have a precission of 1 mm approximately.\n",
    "\n",
    "**However, the tests below show that the broadcasting operations with `float32` values are several times faster! This is probably system/platform-dependent...**"
   ]
  },
  {
   "cell_type": "code",
   "execution_count": 58,
   "metadata": {},
   "outputs": [
    {
     "name": "stdout",
     "output_type": "stream",
     "text": [
      "Array with dtype=np.float16: [1.001 2.006 5.    9.   ]\n"
     ]
    }
   ],
   "source": [
    "import numpy as np\n",
    "\n",
    "numbers = [1.0005, 2.005, 5.0006, 9.0008]\n",
    "float16_array = np.array(numbers, dtype=np.float16)\n",
    "\n",
    "print(\"Array with dtype=np.float16:\", float16_array)"
   ]
  },
  {
   "cell_type": "code",
   "execution_count": 59,
   "metadata": {},
   "outputs": [
    {
     "name": "stdout",
     "output_type": "stream",
     "text": [
      "Array with dtype=np.float16: [ 0.1005  0.9004  0.3005 -0.501 ]\n"
     ]
    }
   ],
   "source": [
    "numbers = [0.1005, 0.9003, 0.3006, -0.5008]\n",
    "float16_array = np.array(numbers, dtype=np.float16)\n",
    "\n",
    "print(\"Array with dtype=np.float16:\", float16_array)"
   ]
  },
  {
   "cell_type": "code",
   "execution_count": 60,
   "metadata": {},
   "outputs": [
    {
     "name": "stdout",
     "output_type": "stream",
     "text": [
      "Array with dtype=np.float16: [-1.5e-05 -2.3e-05 -5.6e-05 -9.8e-05]\n"
     ]
    }
   ],
   "source": [
    "numbers = [-0.000015, -0.000023, -0.000056, -0.000098]\n",
    "float16_array = np.array(numbers, dtype=np.float16)\n",
    "\n",
    "print(\"Array with dtype=np.float16:\", float16_array)"
   ]
  },
  {
   "cell_type": "code",
   "execution_count": 65,
   "metadata": {},
   "outputs": [
    {
     "name": "stdout",
     "output_type": "stream",
     "text": [
      "Time for np.float16: 0.02685999870300293 seconds\n",
      "Time for np.float32: 0.003380298614501953 seconds\n",
      "Time for np.float64: 0.004864215850830078 seconds\n"
     ]
    }
   ],
   "source": [
    "import numpy as np\n",
    "import time\n",
    "\n",
    "size = 1_000_000  # Large array size for benchmarking\n",
    "\n",
    "# Generate large arrays\n",
    "array_float16 = np.random.randn(size).astype(np.float16)\n",
    "array_float32 = np.random.randn(size).astype(np.float32)\n",
    "array_float64 = np.random.randn(size).astype(np.float64)\n",
    "\n",
    "# Time an operation using np.float16\n",
    "start_time = time.time()\n",
    "result_float16 = array_float16 * np.float16(2) + np.float16(1)\n",
    "end_time = time.time()\n",
    "print(f\"Time for np.float16: {end_time - start_time} seconds\")\n",
    "\n",
    "# Time an operation using np.float32\n",
    "start_time = time.time()\n",
    "result_float32 = array_float32 * np.float32(2) + np.float32(1)\n",
    "end_time = time.time()\n",
    "print(f\"Time for np.float32: {end_time - start_time} seconds\")\n",
    "\n",
    "# Time the same operation using np.float64\n",
    "start_time = time.time()\n",
    "result_float64 = array_float64 * np.float64(2) + np.float64(1)\n",
    "end_time = time.time()\n",
    "print(f\"Time for np.float64: {end_time - start_time} seconds\")"
   ]
  },
  {
   "cell_type": "code",
   "execution_count": null,
   "metadata": {},
   "outputs": [],
   "source": []
  }
 ],
 "metadata": {
  "kernelspec": {
   "display_name": "Python 3",
   "language": "python",
   "name": "python3"
  },
  "language_info": {
   "codemirror_mode": {
    "name": "ipython",
    "version": 3
   },
   "file_extension": ".py",
   "mimetype": "text/x-python",
   "name": "python",
   "nbconvert_exporter": "python",
   "pygments_lexer": "ipython3",
   "version": "3.10.14"
  }
 },
 "nbformat": 4,
 "nbformat_minor": 2
}
