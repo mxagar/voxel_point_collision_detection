{
 "cells": [
  {
   "cell_type": "markdown",
   "metadata": {},
   "source": [
    "# VPS Tests with Numpy"
   ]
  },
  {
   "cell_type": "markdown",
   "metadata": {},
   "source": [
    "These are my first trials to replicate VPS using Numpy."
   ]
  },
  {
   "cell_type": "markdown",
   "metadata": {},
   "source": [
    "## Pointshell"
   ]
  },
  {
   "cell_type": "markdown",
   "metadata": {},
   "source": [
    "We generate \n",
    "\n",
    "- A numpy array of shape (10000, 6) which contains random floats in [-1.0, 1.0]; the first 3 columns denote point coordinates, whereas the last 3 columns denote normal vectors. Thus, the 6D elements are points in space each with a normal vector. Additionally, constrain the first 3 floats to be in a unit sphere (i.e., a sphere with radius 1); you can achieve that by projecting the point coordinates onto the unit sphere.\n",
    "- A numpy array of shape (4,4) containing floats: this array/matrix is in reality a homogeneous transformation matrix H composed by a rotation matrix R (3,3) and a translation vector t (3,1) side by side. Note that the last row of the matrix should be [0.0, 0.0, 0.0, 1.0]. Remember it's a homogeneous transformation matrix; maybe, instead of working with the H (4,4) matrix, we could work with two arrays: R (3,3) and t (3,1). The R part should be orthonormal, i.e., R*transpose(R) = Identity and determinant(R) = 1.0."
   ]
  },
  {
   "cell_type": "code",
   "execution_count": 6,
   "metadata": {},
   "outputs": [
    {
     "data": {
      "text/plain": [
       "(array([[-0.69083018, -0.69326699,  0.20526701, -0.44357016,  0.45003597,\n",
       "          0.68664599],\n",
       "        [-0.506653  ,  0.22435252,  0.83244741, -0.24569889, -0.37638021,\n",
       "          0.79888813],\n",
       "        [-0.46095828, -0.25535898,  0.84988779,  0.05583061,  0.01677835,\n",
       "         -0.90682689],\n",
       "        ...,\n",
       "        [-0.98370236, -0.02405747, -0.17818785, -0.53602471, -0.7449705 ,\n",
       "          0.11061471],\n",
       "        [ 0.58809858, -0.62806377,  0.5095841 , -0.69514454, -0.56565481,\n",
       "          0.96185201],\n",
       "        [-0.24396062,  0.96208729, -0.12194775,  0.58776414,  0.52563265,\n",
       "          0.73570362]]),\n",
       " array([[ 0.25398613,  0.96217623, -0.09852897,  0.66545825],\n",
       "        [ 0.92852647, -0.21403909,  0.30335764,  0.17453181],\n",
       "        [ 0.27079446, -0.16853539, -0.94776906, -0.06858969],\n",
       "        [ 0.        ,  0.        ,  0.        ,  1.        ]]))"
      ]
     },
     "execution_count": 6,
     "metadata": {},
     "output_type": "execute_result"
    }
   ],
   "source": [
    "import numpy as np\n",
    "\n",
    "# Function to generate a point on a unit sphere\n",
    "def generate_on_unit_sphere(n_points):\n",
    "    vec = np.random.randn(n_points, 3)  # Generate random points in 3D\n",
    "    vec /= np.linalg.norm(vec, axis=1)[:, np.newaxis]  # Normalize points to lie on the surface of a unit sphere\n",
    "    return vec\n",
    "\n",
    "# Generate 10000 points with their normals\n",
    "points = generate_on_unit_sphere(10000)\n",
    "normals = np.random.uniform(-1.0, 1.0, (10000, 3))  # Generate random normal vectors\n",
    "data = np.hstack((points, normals))  # Concatenate points and normals\n",
    "\n",
    "# Function to generate a random orthonormal matrix, i.e., a rotation matrix\n",
    "def random_rotation_matrix():\n",
    "    # Create a random unit quaternion\n",
    "    q = np.random.randn(4)\n",
    "    q /= np.linalg.norm(q)\n",
    "\n",
    "    # Convert the quaternion into a rotation matrix\n",
    "    q0, q1, q2, q3 = q\n",
    "    R = np.array([[1 - 2*q2**2 - 2*q3**2, 2*q1*q2 - 2*q3*q0, 2*q1*q3 + 2*q2*q0],\n",
    "                  [2*q1*q2 + 2*q3*q0, 1 - 2*q1**2 - 2*q3**2, 2*q2*q3 - 2*q1*q0],\n",
    "                  [2*q1*q3 - 2*q2*q0, 2*q2*q3 + 2*q1*q0, 1 - 2*q1**2 - 2*q2**2]])\n",
    "    return R\n",
    "\n",
    "# Generate a random rotation matrix R\n",
    "R = random_rotation_matrix()\n",
    "\n",
    "# Generate a random translation vector t\n",
    "t = np.random.uniform(-1.0, 1.0, (3, 1))\n",
    "\n",
    "# Construct the homogeneous transformation matrix H\n",
    "H = np.eye(4)\n",
    "H[:3, :3] = R\n",
    "H[:3, 3] = t.ravel()\n",
    "\n",
    "(data, H)\n"
   ]
  },
  {
   "cell_type": "markdown",
   "metadata": {},
   "source": [
    "Now we use R and t to transform data as follows:\n",
    "\n",
    "- Apply the transformation H to all points in the first 3 columns of data (the points), i.e., new_point = R*point + t\n",
    "- Apply only the rotation T to the last 3 columns of data (the normals), i.e., new_normal = R*normal\n",
    "\n",
    "We do it in a function transform_data() which takes as input the data and the H matrix. The function should return the transformed data. However, we should not make any copies! Instead, the input data is modified in place.\n",
    "\n",
    "We perform 1000 transformations with a unique rando H matrix and measure how long the average transform_data() requires."
   ]
  },
  {
   "cell_type": "code",
   "execution_count": 36,
   "metadata": {},
   "outputs": [
    {
     "data": {
      "text/plain": [
       "0.0003521876335144043"
      ]
     },
     "execution_count": 36,
     "metadata": {},
     "output_type": "execute_result"
    }
   ],
   "source": [
    "import time\n",
    "\n",
    "# Function to transform data in place according to the provided homogeneous transformation matrix H\n",
    "def transform_data(data, H, start=None, stop=None):\n",
    "    R = H[:3, :3]  # Extract the rotation matrix\n",
    "    t = H[:3, 3]   # Extract the translation vector\n",
    "\n",
    "    # Determine slice range\n",
    "    start = start if start is not None else 0\n",
    "    stop = stop if stop is not None else data.shape[0]\n",
    "\n",
    "    # Apply transformation to points within the specified slice\n",
    "    data[start:stop, :3] = np.dot(data[start:stop, :3], R.T) + t\n",
    "\n",
    "    # Apply rotation to normals within the specified slice\n",
    "    data[start:stop, 3:] = np.dot(data[start:stop, 3:], R.T)\n",
    "\n",
    "# Measure performance\n",
    "start_time = time.time()\n",
    "for _ in range(1000):\n",
    "    R = random_rotation_matrix()  # Generate a new random rotation matrix\n",
    "    t = np.random.uniform(-1.0, 1.0, (3, 1))  # Generate a new random translation vector\n",
    "\n",
    "    # Construct a new homogeneous transformation matrix H\n",
    "    H_new = np.eye(4)\n",
    "    H_new[:3, :3] = R\n",
    "    H_new[:3, 3] = t.ravel()\n",
    "\n",
    "    # Transform the data\n",
    "    # We can transform the complete set of points or a slice start:stop\n",
    "    start = int(0.0*data.shape[0])\n",
    "    stop = int(0.99*data.shape[0])\n",
    "    transform_data(data, H_new, start=start, stop=stop)\n",
    "\n",
    "end_time = time.time()\n",
    "average_time = (end_time - start_time) / 1000\n",
    "\n",
    "average_time # 0.00036285042762756347"
   ]
  },
  {
   "cell_type": "markdown",
   "metadata": {},
   "source": [
    "## Voxelmap and Collision"
   ]
  },
  {
   "cell_type": "markdown",
   "metadata": {},
   "source": [
    "Now we create a class called Environment which will contain a numpy array called map of shape (Nx, Ny, Nz) with random integer values (int16, signed). N values are passed when the class is instantiated. The class should also take the float tuples (xMin, yMin, zMin) and (xMax, yMax, zMax) and save them as the arrays bbox_min and bbox_max of shape (3,).\n",
    "\n",
    "Additionally, we need a method compute_collision() which takes as input the transformed beforehand data array (10000, 6). Then, the first 3 columns of the data array (points) are checked against the map as follows: \n",
    "\n",
    "- The real 3 coordinates of every point p in data are transformed into the discrete map array coordinates using bbox_min and bbox_max: real in data (px, py, pz) -> discrete in map (PX, PY, PZ).\n",
    "- We create an array of shape (10000, 1) (i.e., in practice the same number of rows as data) which contains 0.0 floats; we call that array penetration and each point as an entry.\n",
    "- Then, the integer value in the map is observed in the discrete coordinates: map[PX, PY, PZ]; if that value is larger than 0, the corresponding point entry in the penetration array gets assigned the map[PX, PY, PZ] value.\n",
    "- Finally, the penetration array is multiplied to the last 3 columns of data (normals) one by one and the products are summed. The resulting (1,3) array is the collision force, which is returned by compute_collision().\n",
    "\n",
    "Do not use any loops, if possible. Instead, use numpy operators only to be as fast as possible."
   ]
  },
  {
   "cell_type": "code",
   "execution_count": 37,
   "metadata": {},
   "outputs": [
    {
     "data": {
      "text/plain": [
       "array([[-272887.05163768,  494462.88487665,  419462.53910078]])"
      ]
     },
     "execution_count": 37,
     "metadata": {},
     "output_type": "execute_result"
    }
   ],
   "source": [
    "import numpy as np\n",
    "\n",
    "class Environment:\n",
    "    def __init__(self, N, bbox_min, bbox_max):\n",
    "        self.map = np.random.randint(np.iinfo(np.int16).min, np.iinfo(np.int16).max + 1, N, dtype=np.int16)\n",
    "        self.bbox_min = np.array(bbox_min)\n",
    "        self.bbox_max = np.array(bbox_max)\n",
    "\n",
    "    def compute_collision(self, data, start=None, stop=None):\n",
    "        # Determine slice range\n",
    "        start = start if start is not None else 0\n",
    "        stop = stop if stop is not None else data.shape[0]\n",
    "\n",
    "        # Scale factors for converting real coordinates to discrete map indices\n",
    "        scale_factors = (self.map.shape - np.array([1, 1, 1])) / (self.bbox_max - self.bbox_min)\n",
    "\n",
    "        # Convert real coordinates in the specified slice of data to discrete coordinates in the map\n",
    "        # TODO: store distance from voxel center to point and project it in normal to correct map_value\n",
    "        discrete_coords = ((data[start:stop, :3] - self.bbox_min) * scale_factors).astype(int)\n",
    "\n",
    "        # Clamp coordinates to map bounds\n",
    "        discrete_coords = np.clip(discrete_coords, [0, 0, 0], np.array(self.map.shape) - 1)\n",
    "\n",
    "        # Fetch map values at discrete coordinates without using a loop\n",
    "        map_values = self.map[discrete_coords[:, 0], discrete_coords[:, 1], discrete_coords[:, 2]]\n",
    "\n",
    "        # Update penetration values based on map values\n",
    "        # TODO: get max/min penetration/distance\n",
    "        # TODO: make penetration/distance array a property that can be accessed\n",
    "        penetration = np.where(map_values > 0, map_values, 0).reshape(-1, 1)\n",
    "\n",
    "        # Compute collision force for the specified slice\n",
    "        # TODO: compute torque approximations\n",
    "        collision_force = np.sum(penetration * data[start:stop, 3:], axis=0)\n",
    "\n",
    "        return collision_force.reshape((1, 3))\n",
    "\n",
    "# Example of class instantiation and method usage\n",
    "N = (100, 100, 100)  # Map dimensions\n",
    "bbox_min = (-5.0, -5.0, -5.0)  # Minimum bounds\n",
    "bbox_max = (5.0, 5.0, 5.0)  # Maximum bounds\n",
    "\n",
    "env = Environment(N, bbox_min, bbox_max)\n",
    "\n",
    "# For demonstration purposes, let's create a sample data array similar to the previously transformed data\n",
    "data_sample = np.random.uniform(-1.0, 1.0, (10000, 6))\n",
    "data_sample[:, :3] /= np.linalg.norm(data_sample[:, :3], axis=1)[:, np.newaxis]  # Normalize first 3 columns to unit vectors\n",
    "\n",
    "# Compute the collision force\n",
    "collision_force = env.compute_collision(data_sample)\n",
    "collision_force"
   ]
  },
  {
   "cell_type": "markdown",
   "metadata": {},
   "source": [
    "Now we run compute_collision(data_sample) 1000 times and measure the average time it takes."
   ]
  },
  {
   "cell_type": "code",
   "execution_count": 33,
   "metadata": {},
   "outputs": [
    {
     "data": {
      "text/plain": [
       "0.0006076681613922119"
      ]
     },
     "execution_count": 33,
     "metadata": {},
     "output_type": "execute_result"
    }
   ],
   "source": [
    "import time\n",
    "\n",
    "# Measure performance of the optimized compute_collision method again, now with time module imported\n",
    "start_time_optimized = time.time()\n",
    "\n",
    "for _ in range(1000):\n",
    "    start = int(0.0*data_sample.shape[0])\n",
    "    stop = int(0.99*data_sample.shape[0])\n",
    "    env.compute_collision(data_sample, start=start, stop=stop)\n",
    "\n",
    "end_time_optimized = time.time()\n",
    "average_time_optimized = (end_time_optimized - start_time_optimized) / 1000\n",
    "\n",
    "average_time_optimized\n"
   ]
  },
  {
   "cell_type": "code",
   "execution_count": null,
   "metadata": {},
   "outputs": [],
   "source": []
  },
  {
   "cell_type": "code",
   "execution_count": null,
   "metadata": {},
   "outputs": [],
   "source": []
  }
 ],
 "metadata": {
  "kernelspec": {
   "display_name": "Python 3",
   "language": "python",
   "name": "python3"
  },
  "language_info": {
   "codemirror_mode": {
    "name": "ipython",
    "version": 3
   },
   "file_extension": ".py",
   "mimetype": "text/x-python",
   "name": "python",
   "nbconvert_exporter": "python",
   "pygments_lexer": "ipython3",
   "version": "3.8.16"
  }
 },
 "nbformat": 4,
 "nbformat_minor": 2
}
