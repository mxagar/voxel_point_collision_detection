{
 "cells": [
  {
   "cell_type": "markdown",
   "metadata": {},
   "source": [
    "# Tests with USeful Algorithms"
   ]
  },
  {
   "cell_type": "markdown",
   "metadata": {},
   "source": [
    "## Floodfill"
   ]
  },
  {
   "cell_type": "markdown",
   "metadata": {},
   "source": [
    "Work in progress..."
   ]
  },
  {
   "cell_type": "code",
   "execution_count": 3,
   "metadata": {},
   "outputs": [
    {
     "name": "stdout",
     "output_type": "stream",
     "text": [
      "[[[0 0 0]\n",
      "  [0 0 0]\n",
      "  [0 0 0]]\n",
      "\n",
      " [[0 0 0]\n",
      "  [2 2 2]\n",
      "  [0 0 0]]\n",
      "\n",
      " [[0 0 0]\n",
      "  [0 0 0]\n",
      "  [0 0 0]]]\n",
      "Initial Volume:\n",
      "[[0 0 0 0 0]\n",
      " [0 1 1 1 0]\n",
      " [0 1 2 1 0]\n",
      " [0 1 1 1 0]\n",
      " [0 0 0 0 0]]\n",
      "Modified Volume:\n",
      "[[0 0 0 0 0]\n",
      " [0 1 1 1 0]\n",
      " [0 1 3 1 0]\n",
      " [0 1 1 1 0]\n",
      " [0 0 0 0 0]]\n"
     ]
    }
   ],
   "source": [
    "import numpy as np\n",
    "\n",
    "def flood_fill_3d(volume, start_xyz, new_value):\n",
    "    # Get the initial value at the start coordinates\n",
    "    x, y, z = start_xyz\n",
    "    old_value = volume[x, y, z]\n",
    "    if old_value == new_value:\n",
    "        return volume\n",
    "\n",
    "    # Define the stack and initialize with the start position\n",
    "    stack = [(x, y, z)]\n",
    "\n",
    "    # Loop as long as there are elements in the stack\n",
    "    while stack:\n",
    "        x, y, z = stack.pop()\n",
    "        \n",
    "        # Check if the current position is within bounds\n",
    "        if x < 0 or x >= volume.shape[0] or y < 0 or y >= volume.shape[1] or z < 0 or z >= volume.shape[2]:\n",
    "            continue\n",
    "\n",
    "        # Change the value if it matches the old value\n",
    "        if volume[x, y, z] == old_value:\n",
    "            volume[x, y, z] = new_value\n",
    "            \n",
    "            # Add the six neighbors (up, down, left, right, front, back)\n",
    "            stack.append((x + 1, y, z))\n",
    "            stack.append((x - 1, y, z))\n",
    "            stack.append((x, y + 1, z))\n",
    "            stack.append((x, y - 1, z))\n",
    "            stack.append((x, y, z + 1))\n",
    "            stack.append((x, y, z - 1))\n",
    "    \n",
    "    return volume\n",
    "\n",
    "## Example 1\n",
    "\n",
    "# Example of a 3D volume\n",
    "volume = np.array([[[0, 0, 0], [0, 0, 0], [0, 0, 0]],\n",
    "                   [[0, 0, 0], [1, 1, 1], [0, 0, 0]],\n",
    "                   [[0, 0, 0], [0, 0, 0], [0, 0, 0]]])\n",
    "\n",
    "# Starting point and the new value to fill\n",
    "start_xyz = (1, 1, 1)\n",
    "new_value = 2\n",
    "\n",
    "# Execute the flood fill algorithm\n",
    "filled_volume = flood_fill_3d(volume, start_xyz, new_value)\n",
    "print(filled_volume)\n",
    "\n",
    "## Example 2\n",
    "\n",
    "# Create a larger, more interesting 5x5x5 volume\n",
    "volume = np.zeros((5, 5, 5), dtype=int)\n",
    "\n",
    "# Define different regions in the volume\n",
    "volume[1:4, 1:4, 1:4] = 1  # Inner cube\n",
    "volume[2, 2, :] = 2        # Middle cross slice in z-direction with different value\n",
    "\n",
    "print(\"Initial Volume:\")\n",
    "print(volume[:, :, 2])  # Display a central slice for simplicity\n",
    "\n",
    "# Starting point within the inner cube, not on the cross, and new value to fill\n",
    "start_xyz = (2, 2, 1)  # Starting from a value of 1, but not the center cross\n",
    "new_value = 3\n",
    "\n",
    "# Execute the flood fill algorithm\n",
    "filled_volume = flood_fill_3d(volume, start_xyz, new_value)\n",
    "\n",
    "print(\"Modified Volume:\")\n",
    "print(filled_volume[:, :, 2])  # Display the same central slice to show changes"
   ]
  },
  {
   "cell_type": "code",
   "execution_count": null,
   "metadata": {},
   "outputs": [],
   "source": []
  }
 ],
 "metadata": {
  "kernelspec": {
   "display_name": "Python 3",
   "language": "python",
   "name": "python3"
  },
  "language_info": {
   "codemirror_mode": {
    "name": "ipython",
    "version": 3
   },
   "file_extension": ".py",
   "mimetype": "text/x-python",
   "name": "python",
   "nbconvert_exporter": "python",
   "pygments_lexer": "ipython3",
   "version": "3.10.14"
  }
 },
 "nbformat": 4,
 "nbformat_minor": 2
}
