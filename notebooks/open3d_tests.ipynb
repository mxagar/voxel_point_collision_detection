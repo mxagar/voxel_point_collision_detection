{
 "cells": [
  {
   "cell_type": "markdown",
   "metadata": {},
   "source": [
    "# Open3D Tests"
   ]
  },
  {
   "cell_type": "markdown",
   "metadata": {},
   "source": [
    "See [mxagar/open3d_guide](https://github.com/mxagar/open3d_guide).\n",
    "\n",
    "Some interesting notebooks for this project from that repository:\n",
    "\n",
    "- [File IO](https://github.com/mxagar/open3d_guide/blob/main/notebooks/01_Intro_File_IO.ipynb)\n",
    "- [Meshes](https://github.com/mxagar/open3d_guide/blob/main/notebooks/03_Meshes.ipynb)\n",
    "- [Pointclouds](https://github.com/mxagar/open3d_guide/blob/main/notebooks/02_PointClouds.ipynb)\n",
    "- [Transformations](https://github.com/mxagar/open3d_guide/blob/main/notebooks/04_Transformations.ipynb)   \n",
    "- [KDTrees](https://github.com/mxagar/open3d_guide/blob/main/notebooks/07_KDTree.ipynb)\n",
    "- [Numpy integration](https://github.com/mxagar/open3d_guide/blob/main/notebooks/09_Numpy.ipynb)\n",
    "- [Voxelization](https://github.com/mxagar/open3d_guide/blob/main/notebooks/11_Voxelization.ipynb)"
   ]
  },
  {
   "cell_type": "markdown",
   "metadata": {},
   "source": []
  }
 ],
 "metadata": {
  "language_info": {
   "name": "python"
  }
 },
 "nbformat": 4,
 "nbformat_minor": 2
}
